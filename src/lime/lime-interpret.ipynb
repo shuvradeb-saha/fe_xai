{
 "cells": [
  {
   "cell_type": "markdown",
   "metadata": {},
   "source": [
    "```markdown\n",
    "We are going to use Microsoft's `interpret` library and `lime` from that library here. Seems like it only works with binary classification problem. For multiclass classification it doesn't work.\n",
    "```"
   ]
  },
  {
   "cell_type": "code",
   "execution_count": 68,
   "metadata": {},
   "outputs": [],
   "source": [
    "import time\n",
    "from sklearn.datasets import load_breast_cancer\n",
    "from sklearn.model_selection import train_test_split\n",
    "from sklearn.ensemble import RandomForestClassifier\n",
    "from sklearn.metrics import accuracy_score, f1_score"
   ]
  },
  {
   "cell_type": "code",
   "execution_count": 69,
   "metadata": {},
   "outputs": [
    {
     "name": "stdout",
     "output_type": "stream",
     "text": [
      "['mean radius' 'mean texture' 'mean perimeter' 'mean area'\n",
      " 'mean smoothness' 'mean compactness' 'mean concavity'\n",
      " 'mean concave points' 'mean symmetry' 'mean fractal dimension'\n",
      " 'radius error' 'texture error' 'perimeter error' 'area error'\n",
      " 'smoothness error' 'compactness error' 'concavity error'\n",
      " 'concave points error' 'symmetry error' 'fractal dimension error'\n",
      " 'worst radius' 'worst texture' 'worst perimeter' 'worst area'\n",
      " 'worst smoothness' 'worst compactness' 'worst concavity'\n",
      " 'worst concave points' 'worst symmetry' 'worst fractal dimension']\n",
      "Whole Data: (569, 30)\n",
      "Trainset: (398, 30)\n",
      "Testset: (171, 30)\n"
     ]
    }
   ],
   "source": [
    "data_set = load_breast_cancer()\n",
    "data, target = data_set.data, data_set.target\n",
    "feature_names = data_set.feature_names\n",
    "print(feature_names)\n",
    "print(f\"Whole Data: {data.shape}\")\n",
    "\n",
    "X_train, X_test, y_train, y_test = train_test_split(data, target, test_size=0.3, random_state=42)\n",
    "\n",
    "print(f\"Trainset: {X_train.shape}\")\n",
    "print(f\"Testset: {X_test.shape}\")"
   ]
  },
  {
   "cell_type": "code",
   "execution_count": 70,
   "metadata": {},
   "outputs": [
    {
     "name": "stdout",
     "output_type": "stream",
     "text": [
      "Training the model...\n",
      "Training time: 0.24277782440185547\n"
     ]
    }
   ],
   "source": [
    "# Train the model\n",
    "\n",
    "start = time.time()\n",
    "print(\"Training the model...\")\n",
    "model = RandomForestClassifier(n_estimators=40, random_state=42)\n",
    "model.fit(X_train, y_train)\n",
    "print(f\"Training time: {time.time() - start}\")"
   ]
  },
  {
   "cell_type": "code",
   "execution_count": 71,
   "metadata": {},
   "outputs": [
    {
     "name": "stdout",
     "output_type": "stream",
     "text": [
      "Accuracy:  0.9707602339181286\n",
      "F1 score:  0.9682592716338123\n"
     ]
    }
   ],
   "source": [
    "# Predict the test set and calculate the accuracy\n",
    "y_pred = model.predict(X_test)\n",
    "print(\"Accuracy: \", accuracy_score(y_test, y_pred))\n",
    "print(\"F1 score: \", f1_score(y_test, y_pred, average='macro'))\n"
   ]
  },
  {
   "cell_type": "code",
   "execution_count": 72,
   "metadata": {},
   "outputs": [
    {
     "data": {
      "text/html": [
       "<!-- http://127.0.0.1:7001/139693007888144/ -->\n",
       "<iframe src=\"http://127.0.0.1:7001/139693007888144/\" width=100% height=800 frameBorder=\"0\"></iframe>"
      ]
     },
     "metadata": {},
     "output_type": "display_data"
    }
   ],
   "source": [
    "# Explain the model using interpret\n",
    "from interpret import show\n",
    "from interpret.blackbox import LimeTabular\n",
    "\n",
    "lime = LimeTabular(model, X_train, random_state=42, feature_names=feature_names)\n",
    "lime_local = lime.explain_local(X_test[:5], y_test[:5])\n",
    "show(lime_local, 0)"
   ]
  }
 ],
 "metadata": {
  "kernelspec": {
   "display_name": "fe_xai_venv",
   "language": "python",
   "name": "python3"
  },
  "language_info": {
   "codemirror_mode": {
    "name": "ipython",
    "version": 3
   },
   "file_extension": ".py",
   "mimetype": "text/x-python",
   "name": "python",
   "nbconvert_exporter": "python",
   "pygments_lexer": "ipython3",
   "version": "3.8.10"
  }
 },
 "nbformat": 4,
 "nbformat_minor": 2
}
